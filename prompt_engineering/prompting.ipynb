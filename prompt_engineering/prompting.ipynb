{
 "cells": [
  {
   "cell_type": "code",
   "execution_count": 1,
   "metadata": {},
   "outputs": [
    {
     "data": {
      "text/plain": [
       "True"
      ]
     },
     "execution_count": 1,
     "metadata": {},
     "output_type": "execute_result"
    }
   ],
   "source": [
    "import os\n",
    "import openai\n",
    "from typing import Union\n",
    "from dotenv import load_dotenv\n",
    "from util import DELIMITER, GYM, FITNESS_ACTIVITY, TRAINING, JOURNEY\n",
    "\n",
    "load_dotenv()"
   ]
  },
  {
   "cell_type": "code",
   "execution_count": 2,
   "metadata": {},
   "outputs": [],
   "source": [
    "openai.organization = os.getenv(\"OPENAI_ORG_ID\")\n",
    "openai.api_key = os.getenv(\"OPENAI_API_KEY\")"
   ]
  },
  {
   "cell_type": "markdown",
   "metadata": {},
   "source": [
    "#### SYSTEM CONTEXT"
   ]
  },
  {
   "cell_type": "code",
   "execution_count": 3,
   "metadata": {},
   "outputs": [],
   "source": [
    "SYSTEM = f\"\"\"\n",
    "You are my assistant, you have extensive knowledge on physical fitness, \\\n",
    "you also have knowledge about my fitness routines including the days i go to the gym,\\\n",
    "fitness activity i do on each day, training routines on each activity and my journey to and from the gym each day. \\\n",
    "Take these steps to answer my queries which will be delimited by {DELIMITER}.\n",
    "\n",
    "STATE 1: You need to classify which category my query belongs.\\\n",
    "The categories are GYM, FITNESS-ACTIVITY, TRAINING-ROUTINE, and JOURNEY. \n",
    "Your classification is allowed to be multi class if you think the query can be classed \\\n",
    "into more than one of the specified categories. Always remember that the classes \\\n",
    "include these four categories only, make sure not to classify \\\n",
    "any query outside of these four classes. \n",
    "\n",
    "STATE 2: Once my query has been classified, Follow the following conditions.\n",
    "\n",
    "CONDITIONS\n",
    "\n",
    "If classification is GYM, use {GYM} information to answer my queries \n",
    "If classification is FITNESS-ACTIVITY, use {FITNESS_ACTIVITY} information to answer my queries \n",
    "If classification is TRAINING-ROUTINE, use {TRAINING} information to answer my queries \n",
    "If classification is JOURNEY, use {JOURNEY} information to answer my queries \n",
    "If you think the query can not be classified into one of the specified categories,\\\n",
    "then combine all the information you have ({GYM}, {FITNESS_ACTIVITY}, {TRAINING}, {JOURNEY}) to give a \\\n",
    "responsible answer to my given query if applicable or reply by saying you do not have enough \\\n",
    "information to answer at this time.\n",
    "\n",
    "IMPORTAN NOTE: Make sure your answers are responsible and follow the steps provided.\n",
    "\n",
    "Use the following format:\n",
    "\n",
    "RESPONSE:{DELIMITER} <STATE 2 output>\n",
    "\n",
    "Always respond in second person\n",
    "example\n",
    "QUERY: what are my fitness activites?\n",
    "RESPONSE: You do Muay thai, calisthenics, and weight training.\n",
    "\"\"\""
   ]
  },
  {
   "cell_type": "code",
   "execution_count": 4,
   "metadata": {},
   "outputs": [],
   "source": [
    "context = [{\"role\": \"system\", \"content\":  SYSTEM}]"
   ]
  },
  {
   "cell_type": "markdown",
   "metadata": {},
   "source": [
    "#### COMPONENTS"
   ]
  },
  {
   "cell_type": "code",
   "execution_count": 5,
   "metadata": {},
   "outputs": [],
   "source": [
    "def moderate(\n",
    "        input: str\n",
    ")-> str:\n",
    "    \"\"\"\n",
    "    Send input text for moderation using the OpenAI API.\n",
    "\n",
    "    Args:\n",
    "        input (str): The text to be moderated.\n",
    "\n",
    "    Returns:\n",
    "        str: The moderation output from the API.\n",
    "\n",
    "    \"\"\"\n",
    "    response = openai.Moderation.create(\n",
    "    input=input\n",
    ")\n",
    "    moderation_output = response[\"results\"][0]['flagged']\n",
    "    return moderation_output"
   ]
  },
  {
   "cell_type": "code",
   "execution_count": 7,
   "metadata": {},
   "outputs": [],
   "source": [
    "def assistant(\n",
    "        context: list,\n",
    "        debug: bool,\n",
    "        model: str='gpt-3.5-turbo', \n",
    "        temperature: float=0,\n",
    ") -> Union[str, tuple]:\n",
    "    \"\"\"\n",
    "    Interact with the OpenAI Chat API to generate responses.\n",
    "\n",
    "    Args:\n",
    "        context (list): List of message dictionaries, each containing 'role' and 'content'.\n",
    "        debug (bool): If True, returns token count and final response as a tuple.\n",
    "        model (str, optional): The model to use for generating responses. Defaults to 'gpt-3.5-turbo'.\n",
    "        temperature (float, optional): Temperature parameter for randomness in text generation. Defaults to 0.0.\n",
    "\n",
    "    Returns:\n",
    "        str or tuple: The generated response or (token_dict, final_response) tuple if debug is True.\n",
    "\n",
    "    \"\"\"\n",
    "    messages = context\n",
    "     \n",
    "    response = openai.ChatCompletion.create(\n",
    "        model=model,\n",
    "        messages=messages,\n",
    "        temperature=temperature\n",
    "        )\n",
    "    result = response.choices[0].message[\"content\"]\n",
    "\n",
    "    token_dict = {\n",
    "    'prompt_tokens':response['usage']['prompt_tokens'],\n",
    "    'completion_tokens':response['usage']['completion_tokens'],\n",
    "    'total_tokens':response['usage']['total_tokens'],\n",
    "        }\n",
    "    \n",
    "    try:\n",
    "        final_response = result.split(DELIMITER)[-1].strip()\n",
    "    except Exception as e:\n",
    "        final_response = \"Sorry, I'm having trouble right now, please try asking another question.\"\n",
    "\n",
    "    if debug: \n",
    "        return token_dict, final_response\n",
    "    \n",
    "    else:\n",
    "        return final_response\n"
   ]
  },
  {
   "cell_type": "code",
   "execution_count": 8,
   "metadata": {},
   "outputs": [],
   "source": [
    "def respond(\n",
    "        prompt: str,  \n",
    "        debug: bool=False        \n",
    ") -> str:\n",
    "    \"\"\"\n",
    "    Respond to a user's prompt using the assistant and moderation checks.\n",
    "\n",
    "    Args:\n",
    "        prompt (str): The user's input prompt.\n",
    "        debug (bool, optional): If True, additional information is printed for debugging. Defaults to False.\n",
    "\n",
    "    Returns:\n",
    "        str: The generated response or an error message.\n",
    "\n",
    "    \"\"\"\n",
    "    user_moderation = moderate(prompt)\n",
    "    if user_moderation:\n",
    "        if debug:\n",
    "            print(user_moderation)\n",
    "            print(\"Input flagged by Moderation API.\")\n",
    "        return \"Sorry, we cannot process this request.\"\n",
    "    if debug: \n",
    "        print(\"Input passed moderation check.\")\n",
    "\n",
    "    global context\n",
    "    context.append({\"role\": \"user\", \"content\": prompt})\n",
    "\n",
    "\n",
    "    response = assistant(context, debug)\n",
    "    if debug:\n",
    "        assistant_moderation = moderate(response[1])\n",
    "        if assistant_moderation:\n",
    "            if debug:\n",
    "                print(\"Step 5: Response flagged by Moderation API.\")\n",
    "            return \"Sorry, we cannot provide this information.\"\n",
    "        print(\"Response passed moderation check.\")\n",
    "        context.append({\"role\": \"assistant\", \"content\": response})\n",
    "        return response[1]\n",
    "    else:\n",
    "        assistant_moderation = moderate(response[1])\n",
    "        if assistant_moderation:\n",
    "            return \"Sorry, we cannot provide this information.\"\n",
    "        context.append({\"role\": \"assistant\", \"content\": response})\n",
    "        return response\n"
   ]
  },
  {
   "cell_type": "markdown",
   "metadata": {},
   "source": [
    "#### QUERY ASSISTANT"
   ]
  },
  {
   "cell_type": "code",
   "execution_count": 9,
   "metadata": {},
   "outputs": [],
   "source": [
    "def query(\n",
    "        delimeter: str,\n",
    "):\n",
    "    query = input()\n",
    "    prompt = f\"{DELIMITER}{query}\"\n",
    "    response = respond(prompt) \n",
    "    \n",
    "\n",
    "    return response.split(': ')[1]"
   ]
  },
  {
   "cell_type": "code",
   "execution_count": 10,
   "metadata": {},
   "outputs": [
    {
     "data": {
      "text/plain": [
       "'Your gym routine consists of going to the gym on a maximum of four days a week. On Tuesdays, you have the option to go to the gym, but it is not as regular as the other days. On Wednesdays, Thursdays, and Saturdays, you go to Gymbox Holborn. And on Tuesdays, you go to Gymbox Victoria.'"
      ]
     },
     "execution_count": 10,
     "metadata": {},
     "output_type": "execute_result"
    }
   ],
   "source": [
    "query(DELIMITER)"
   ]
  },
  {
   "cell_type": "code",
   "execution_count": null,
   "metadata": {},
   "outputs": [],
   "source": []
  }
 ],
 "metadata": {
  "kernelspec": {
   "display_name": "ml-8WonY2UZ",
   "language": "python",
   "name": "python3"
  },
  "language_info": {
   "codemirror_mode": {
    "name": "ipython",
    "version": 3
   },
   "file_extension": ".py",
   "mimetype": "text/x-python",
   "name": "python",
   "nbconvert_exporter": "python",
   "pygments_lexer": "ipython3",
   "version": "3.9.12"
  },
  "orig_nbformat": 4
 },
 "nbformat": 4,
 "nbformat_minor": 2
}
